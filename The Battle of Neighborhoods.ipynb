{
    "cells": [
        {
            "cell_type": "markdown",
            "metadata": {
                "collapsed": true
            },
            "source": "## Introduction/Business Problem"
        },
        {
            "cell_type": "markdown",
            "metadata": {},
            "source": "The collaboration between a non-profit organisation that is working to improve the acesability to healthy food and a healthy food retailer provided an opportunity for the study of food access and food systems within Toronto. Specifically to identify food desert areas where a food desert is a residential neighborhood with little or no access to healthy food, to inventorie and characterize the network of engaged actors, and make recommendations for effective and comprehensive strategies in communication, coordination, and education for food related initiatives. \nBased on the given by the healthy food retailer, based on previous success in other markets, the objective is to locate, which neighborhood(s) of Toronto will be the best choice to support theirgrowth plan. The information gained will assist in choosing the right location by providing data about the population of each neighborhood, in addition to other established venues present in these areas. Additionally, this information could be of interest to other stakeholders looking to identify food deserts in relationship to neighborhood demographics in Toronto."
        },
        {
            "cell_type": "markdown",
            "metadata": {},
            "source": "## Data"
        },
        {
            "cell_type": "markdown",
            "metadata": {},
            "source": "The necessary information needed for the study will come from the following sources:\n**City of Toronto Neighborhood Profiles** for providing an overview of the neighborhoods in Toronto (https://www.toronto.ca/city-government/data-research-maps/neighbourhoods-communities/neighbourhood-profiles/)\n\n**City of Toronto Open Data Catalogue** : The Census of Population is held across Canada every five years (the last being in 2016), and collects data about age and sex, families and households, language, immigration and internal migration, ethnocultural diversity, Aboriginal peoples, housing, education, income, and labor. City of Toronto Neighborhood Profiles use this Census data to provide a portrait of the demographic, social and economic characteristics of the people and households in each City of Toronto neighborhood. The profiles present selected highlights from the data, but these accompanying data files provide the full data set assembled for each neighborhood.(https://www.toronto.ca/city-government/data-research-maps/open-data/open-data-catalogue/#8c732154-5012-9afe-d0cd-ba3ffc813d5a)\n\n**City of Toronto Neighborhood Shapes for mapping** : GeoJSON File (https://open.toronto.ca/dataset/neighbourhoods/)\n\n**Wikipedia for Toronto Neighborhood Borough Designation** : Each of the 140 social planning neighborhoods of Toronto reside within a defined borough. While the City of Toronto is a singular municipality, the 140 neighborhoods are still grouped into six distinct boroughs. (https://en.wikipedia.org/wiki/List_of_city-designated_neighbourhoods_in_Toronto)\n\n**Foursquare API** to collect information on other venues/competitors in the neighborhoods of Toronto (https://developer.foursquare.com/)\n"
        },
        {
            "cell_type": "code",
            "execution_count": null,
            "metadata": {},
            "outputs": [],
            "source": ""
        }
    ],
    "metadata": {
        "kernelspec": {
            "display_name": "Python 3.6",
            "language": "python",
            "name": "python3"
        },
        "language_info": {
            "codemirror_mode": {
                "name": "ipython",
                "version": 3
            },
            "file_extension": ".py",
            "mimetype": "text/x-python",
            "name": "python",
            "nbconvert_exporter": "python",
            "pygments_lexer": "ipython3",
            "version": "3.6.9"
        }
    },
    "nbformat": 4,
    "nbformat_minor": 1
}